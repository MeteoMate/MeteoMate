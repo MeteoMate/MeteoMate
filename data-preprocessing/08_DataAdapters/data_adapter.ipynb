{
 "cells": [
  {
   "cell_type": "code",
   "execution_count": 29,
   "id": "17f5c210",
   "metadata": {},
   "outputs": [],
   "source": [
    "import json\n",
    "from dateutil import parser\n"
   ]
  },
  {
   "cell_type": "code",
   "execution_count": null,
   "id": "7181e58a",
   "metadata": {},
   "outputs": [],
   "source": [
    "# https://www.essl.org/cms/wp-content/uploads/ESSL-rep-2020-11-1.pdf?utm_source=chatgpt.com\n",
    "def map_to_category_and_severity(type_event):\n",
    "    mapping = {\n",
    "        \"AVALANCHE\": (\"None\", 3),\n",
    "        \"DEVIL\": (\"None\", 3),\n",
    "        \"FUNNEL\": (\"None\", 3),\n",
    "        \"GUSTNADO\": (\"None\", 3),\n",
    "        \"HAIL\": (\"HAIL\", 3),\n",
    "        \"ICE\": (\"ICE\", 3),\n",
    "        \"LIGHTNING\": (\"LIGHTNING\", 3),\n",
    "        \"PRECIP\": (\"RAIN\", 3),\n",
    "        \"SNOW\": (\"SNOW\", 3),\n",
    "        \"TORNADO\": (\"TORNADO\", 3),\n",
    "        \"WIND\": (\"WIND\", 3),\n",
    "    }\n",
    "    return mapping.get(type_event, (\"Unknown\", 0))\n",
    "\n",
    "def map_link_id(link_id):\n",
    "    return int(link_id) if link_id and link_id.isdigit() else None\n",
    "\n",
    "def map_time(time_str):\n",
    "    return int(parser.isoparse(time_str).timestamp() * 1000)\n",
    "\n",
    "def map_place(record_item):\n",
    "    return f'{record_item.get(\"COUNTRY\")}, {record_item.get(\"PLACE\")}'\n"
   ]
  },
  {
   "cell_type": "code",
   "execution_count": 34,
   "id": "9b67b2d4",
   "metadata": {},
   "outputs": [],
   "source": [
    "def map_input_to_output(input_record):\n",
    "    category, severity = map_to_category_and_severity(input_record.get(\"TYPE_EVENT\"))\n",
    "    return {\n",
    "        \"type\": \"Feature\",\n",
    "        \"properties\": {\n",
    "            \"meldungId\": map_link_id(input_record.get(\"LINK_ID\")),\n",
    "            \"crowdDeviceId\": None,\n",
    "            \"place\": map_place(input_record),\n",
    "            \"timestamp\": map_time(input_record.get(\"TIME_EVENT\")),\n",
    "            \"submissionTimestamp\": map_time(input_record.get(\"TIME_CREATION\")),\n",
    "            \"category\": category,\n",
    "            \"auspraegung\": severity,\n",
    "            \"zusatzAttribute\": [],\n",
    "            \"comment\": input_record.get(\"EVENT_DESCRIPTION\"),\n",
    "            \"imageOriginalUrl\": None,\n",
    "            \"imageUrl\": None,\n",
    "            \"imageThumbnailUrl\": None,\n",
    "            \"numberOfSubmissions\": input_record.get(\"NO_REVISION\"),\n",
    "            \"approvalRate\": 0.0,\n",
    "            \"qualityCheckPassed\": not input_record.get(\"DELETED\", False),\n",
    "            \"missingValidationData\": False,\n",
    "            \"qualityCheckMsg\": None,\n",
    "            \"timesReportedForImage\": 0,\n",
    "            \"timesReportedForWeather\": 0,\n",
    "            \"userType\": None,\n",
    "            \"sourceVersion\": None,\n",
    "            \"source\": input_record.get(\"LINK_ORG\"),\n",
    "            \"imageLabels\": {\n",
    "                \"labels\": [],\n",
    "                \"nsfwLabels\": []\n",
    "            }\n",
    "        },\n",
    "        \"geometry\": { \n",
    "            \"type\": \"Point\",    \n",
    "             \"coordinates\": [\n",
    "                input_record.get(\"LONGITUDE\"),\n",
    "                input_record.get(\"LATITUDE\"),\n",
    "            ]\n",
    "        }\n",
    "    }\n"
   ]
  },
  {
   "cell_type": "code",
   "execution_count": 35,
   "id": "191258e8",
   "metadata": {},
   "outputs": [],
   "source": [
    "def read_input_json(input_path):\n",
    "    with open(input_path, 'r') as f:\n",
    "        return json.load(f)\n",
    "\n",
    "def transform_all(input_data):\n",
    "    return [map_input_to_output(item) for item in input_data]\n",
    "\n",
    "def write_geojson_output(output_data, output_path='output.json'):\n",
    "    output = {\"type\":\"FeatureCollection\",\"features\": output_data}\n",
    "    with open(output_path, 'w') as f:\n",
    "        json.dump(output, f, indent=4)"
   ]
  },
  {
   "cell_type": "code",
   "execution_count": 36,
   "id": "d0ee14c2",
   "metadata": {},
   "outputs": [],
   "source": [
    "input_path = 'sample.json'\n",
    "data = read_input_json(input_path)\n",
    "\n",
    "output_data = transform_all(data)\n",
    "write_geojson_output(output_data)"
   ]
  }
 ],
 "metadata": {
  "kernelspec": {
   "display_name": "master-thesis",
   "language": "python",
   "name": "python3"
  },
  "language_info": {
   "codemirror_mode": {
    "name": "ipython",
    "version": 3
   },
   "file_extension": ".py",
   "mimetype": "text/x-python",
   "name": "python",
   "nbconvert_exporter": "python",
   "pygments_lexer": "ipython3",
   "version": "3.10.16"
  }
 },
 "nbformat": 4,
 "nbformat_minor": 5
}
